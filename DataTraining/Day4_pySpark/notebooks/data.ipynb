{
 "cells": [
  {
   "cell_type": "markdown",
   "metadata": {},
   "source": [
    "# PySpark Load COVID Data"
   ]
  },
  {
   "cell_type": "code",
   "execution_count": 1,
   "metadata": {},
   "outputs": [],
   "source": [
    "from pyspark.sql import SparkSession\n",
    "from pyspark.sql.functions import col"
   ]
  },
  {
   "cell_type": "code",
   "execution_count": 2,
   "metadata": {},
   "outputs": [],
   "source": [
    "# Initialize a Spark session\n",
    "spark = SparkSession.builder \\\n",
    "    .appName(\"PySpark Demo\") \\\n",
    "    .getOrCreate()\n"
   ]
  },
  {
   "cell_type": "code",
   "execution_count": 20,
   "metadata": {},
   "outputs": [],
   "source": [
    "file_path = \"/home/jovyan/data/complete.csv\"  \n",
    "df = spark.read.option(\"header\", \"true\").csv(file_path)"
   ]
  },
  {
   "cell_type": "code",
   "execution_count": 21,
   "metadata": {},
   "outputs": [
    {
     "name": "stdout",
     "output_type": "stream",
     "text": [
      "root\n",
      " |-- clDate: string (nullable = true)\n",
      " |-- Name of State / UT: string (nullable = true)\n",
      " |-- Latitude: string (nullable = true)\n",
      " |-- Longitude: string (nullable = true)\n",
      " |-- Total Confirmed cases: string (nullable = true)\n",
      " |-- Death: string (nullable = true)\n",
      " |-- Cured/Discharged/Migrated: string (nullable = true)\n",
      " |-- New cases: string (nullable = true)\n",
      " |-- New deaths: string (nullable = true)\n",
      " |-- New recovered: string (nullable = true)\n",
      "\n"
     ]
    }
   ],
   "source": [
    "df.printSchema()"
   ]
  },
  {
   "cell_type": "code",
   "execution_count": 22,
   "metadata": {},
   "outputs": [
    {
     "name": "stdout",
     "output_type": "stream",
     "text": [
      "+----------+------------------+--------+---------+---------------------+-----+-------------------------+---------+----------+-------------+\n",
      "|    clDate|Name of State / UT|Latitude|Longitude|Total Confirmed cases|Death|Cured/Discharged/Migrated|New cases|New deaths|New recovered|\n",
      "+----------+------------------+--------+---------+---------------------+-----+-------------------------+---------+----------+-------------+\n",
      "|2020-01-30|            Kerala| 10.8505|  76.2711|                  1.0|    0|                      0.0|        0|         0|            0|\n",
      "|2020-01-31|            Kerala| 10.8505|  76.2711|                  1.0|    0|                      0.0|        0|         0|            0|\n",
      "|2020-02-01|            Kerala| 10.8505|  76.2711|                  2.0|    0|                      0.0|        1|         0|            0|\n",
      "|2020-02-02|            Kerala| 10.8505|  76.2711|                  3.0|    0|                      0.0|        1|         0|            0|\n",
      "|2020-02-03|            Kerala| 10.8505|  76.2711|                  3.0|    0|                      0.0|        0|         0|            0|\n",
      "|2020-02-04|            Kerala| 10.8505|  76.2711|                  3.0|    0|                      0.0|        0|         0|            0|\n",
      "|2020-02-05|            Kerala| 10.8505|  76.2711|                  3.0|    0|                      0.0|        0|         0|            0|\n",
      "|2020-02-06|            Kerala| 10.8505|  76.2711|                  3.0|    0|                      0.0|        0|         0|            0|\n",
      "|2020-02-07|            Kerala| 10.8505|  76.2711|                  3.0|    0|                      0.0|        0|         0|            0|\n",
      "|2020-02-08|            Kerala| 10.8505|  76.2711|                  3.0|    0|                      0.0|        0|         0|            0|\n",
      "|2020-02-09|            Kerala| 10.8505|  76.2711|                  3.0|    0|                      0.0|        0|         0|            0|\n",
      "|2020-02-10|            Kerala| 10.8505|  76.2711|                  3.0|    0|                      0.0|        0|         0|            0|\n",
      "|2020-02-11|            Kerala| 10.8505|  76.2711|                  3.0|    0|                      0.0|        0|         0|            0|\n",
      "|2020-02-12|            Kerala| 10.8505|  76.2711|                  3.0|    0|                      0.0|        0|         0|            0|\n",
      "|2020-02-13|            Kerala| 10.8505|  76.2711|                  3.0|    0|                      0.0|        0|         0|            0|\n",
      "|2020-02-14|            Kerala| 10.8505|  76.2711|                  3.0|    0|                      0.0|        0|         0|            0|\n",
      "|2020-02-15|            Kerala| 10.8505|  76.2711|                  3.0|    0|                      0.0|        0|         0|            0|\n",
      "|2020-02-16|            Kerala| 10.8505|  76.2711|                  3.0|    0|                      0.0|        0|         0|            0|\n",
      "|2020-02-17|            Kerala| 10.8505|  76.2711|                  3.0|    0|                      0.0|        0|         0|            0|\n",
      "|2020-02-18|            Kerala| 10.8505|  76.2711|                  3.0|    0|                      0.0|        0|         0|            0|\n",
      "+----------+------------------+--------+---------+---------------------+-----+-------------------------+---------+----------+-------------+\n",
      "only showing top 20 rows\n",
      "\n"
     ]
    }
   ],
   "source": [
    "df.show()"
   ]
  },
  {
   "cell_type": "markdown",
   "metadata": {},
   "source": [
    "## Convert all state names to lowercase."
   ]
  },
  {
   "cell_type": "code",
   "execution_count": 24,
   "metadata": {},
   "outputs": [
    {
     "name": "stdout",
     "output_type": "stream",
     "text": [
      "+------------------+\n",
      "|Name of State / UT|\n",
      "+------------------+\n",
      "|            kerala|\n",
      "|            kerala|\n",
      "|            kerala|\n",
      "|            kerala|\n",
      "|            kerala|\n",
      "|            kerala|\n",
      "|            kerala|\n",
      "|            kerala|\n",
      "|            kerala|\n",
      "|            kerala|\n",
      "|            kerala|\n",
      "|            kerala|\n",
      "|            kerala|\n",
      "|            kerala|\n",
      "|            kerala|\n",
      "|            kerala|\n",
      "|            kerala|\n",
      "|            kerala|\n",
      "|            kerala|\n",
      "|            kerala|\n",
      "+------------------+\n",
      "only showing top 20 rows\n",
      "\n"
     ]
    }
   ],
   "source": [
    "from pyspark.sql.functions import lower, col\n",
    "\n",
    "df = df.withColumn('Name of State / UT', lower(col('Name of State / UT')))\n",
    "df.select('Name of State / UT').show()"
   ]
  },
  {
   "cell_type": "markdown",
   "metadata": {},
   "source": [
    "##  The day had a greater number of covid casesruary."
   ]
  },
  {
   "cell_type": "code",
   "execution_count": 26,
   "metadata": {},
   "outputs": [
    {
     "name": "stdout",
     "output_type": "stream",
     "text": [
      "Day with the greatest number of COVID cases: 2020-08-06\n"
     ]
    }
   ],
   "source": [
    "from pyspark.sql.functions import col, sum as spark_sum\n",
    "\n",
    "daily_cases = df.groupBy('clDate').agg(spark_sum('Total Confirmed cases').alias('Total_Cases'))\n",
    "\n",
    "day_with_max_cases = daily_cases.orderBy(col('Total_Cases').desc()).first()\n",
    "print(f\"Day with the greatest number of COVID cases: {day_with_max_cases['clDate']}\")\n"
   ]
  },
  {
   "cell_type": "markdown",
   "metadata": {},
   "source": [
    "##  The day had a greater number of covid cases.ruary."
   ]
  },
  {
   "cell_type": "code",
   "execution_count": 27,
   "metadata": {},
   "outputs": [
    {
     "name": "stdout",
     "output_type": "stream",
     "text": [
      "State with the second-largest number of COVID cases: tamil nadu\n"
     ]
    }
   ],
   "source": [
    "state_cases = df.groupBy('Name of State / UT').agg(spark_sum('Total Confirmed cases').alias('Total_Cases'))\n",
    "\n",
    "second_largest_state = state_cases.orderBy(col('Total_Cases').desc()).collect()[1]\n",
    "print(f\"State with the second-largest number of COVID cases: {second_largest_state['Name of State / UT']}\")\n"
   ]
  },
  {
   "cell_type": "markdown",
   "metadata": {},
   "source": [
    "## The state has the second-largest number of covid cases."
   ]
  },
  {
   "cell_type": "code",
   "execution_count": 29,
   "metadata": {},
   "outputs": [
    {
     "name": "stdout",
     "output_type": "stream",
     "text": [
      "State with the second-largest number of COVID cases: delhi\n"
     ]
    }
   ],
   "source": [
    "second_largest_state = state_cases.orderBy(col('Total_Cases').desc()).collect()[2]\n",
    "print(f\"State with the second-largest number of COVID cases: {second_largest_state['Name of State / UT']}\")\n"
   ]
  },
  {
   "cell_type": "markdown",
   "metadata": {},
   "source": [
    "##  Which Union Territory has the least number of death."
   ]
  },
  {
   "cell_type": "code",
   "execution_count": 59,
   "metadata": {},
   "outputs": [
    {
     "name": "stdout",
     "output_type": "stream",
     "text": [
      "Union Territory with the least number of deaths: union territory of ladakh\n"
     ]
    }
   ],
   "source": [
    "from pyspark.sql.functions import col, sum as spark_sum\n",
    "\n",
    "# Filter for Union Territories\n",
    "ut_df = df.filter(col('Name of State / UT').contains('union territory'))\n",
    "\n",
    "# Aggregate total deaths by UT\n",
    "ut_deaths = ut_df.groupBy('Name of State / UT').agg(spark_sum('Death').alias('Total_Deaths'))\n",
    "\n",
    "# Find the UT with the least number of deaths\n",
    "ut_least_deaths = ut_deaths.orderBy(col('Total_Deaths').asc()).first()\n",
    "\n",
    "# Print the result\n",
    "if ut_least_deaths:\n",
    "    print(f\"Union Territory with the least number of deaths: {ut_least_deaths['Name of State / UT']}\")\n",
    "else:\n",
    "    print(\"No Union Territories found in the data.\")\n"
   ]
  },
  {
   "cell_type": "markdown",
   "metadata": {},
   "source": [
    "## The state has the lowest Death to Total Confirmed cases ratio"
   ]
  },
  {
   "cell_type": "code",
   "execution_count": 47,
   "metadata": {},
   "outputs": [
    {
     "name": "stdout",
     "output_type": "stream",
     "text": [
      "State with the lowest Death to Total Confirmed cases ratio: delhi\n"
     ]
    }
   ],
   "source": [
    "from pyspark.sql.functions import expr\n",
    "\n",
    "state_ratio = df.groupBy('Name of State / UT').agg(\n",
    "    spark_sum('clDate').alias('Total_Deaths'),\n",
    "    spark_sum('Total Confirmed cases').alias('Total_Confirmed')\n",
    ").withColumn(\n",
    "    'Death_to_Confirmed_Ratio', \n",
    "    expr('Total_Deaths / Total_Confirmed')\n",
    ")\n",
    "\n",
    "state_lowest_ratio = state_ratio.orderBy(col('Death_to_Confirmed_Ratio').asc()).first()\n",
    "print(f\"State with the lowest Death to Total Confirmed cases ratio: {state_lowest_ratio['Name of State / UT']}\")\n"
   ]
  },
  {
   "cell_type": "markdown",
   "metadata": {},
   "source": [
    "##  Find which month the more_Newer recovered cases."
   ]
  },
  {
   "cell_type": "code",
   "execution_count": 51,
   "metadata": {},
   "outputs": [
    {
     "name": "stdout",
     "output_type": "stream",
     "text": [
      "Month with the most new recovered cases: July\n"
     ]
    }
   ],
   "source": [
    "from pyspark.sql.functions import month, to_date, sum as spark_sum\n",
    "\n",
    "df = df.withColumn('clDate', to_date(col('clDate'), 'yyyy-MM-dd'))\n",
    "\n",
    "monthly_recovered = df.groupBy(month('clDate').alias('Month')).agg(spark_sum('New recovered').alias('Total_New_Recovered'))\n",
    "\n",
    "month_with_max_recovered = monthly_recovered.orderBy(col('Total_New_Recovered').desc()).first()\n",
    "month_number = month_with_max_recovered['Month']\n",
    "\n",
    "months = {\n",
    "    1: 'January', 2: 'February', 3: 'March', 4: 'April', 5: 'May',\n",
    "    6: 'June', 7: 'July', 8: 'August', 9: 'September', 10: 'October',\n",
    "    11: 'November', 12: 'December'\n",
    "}\n",
    "month_name = months.get(month_number, 'Unknown')\n",
    "print(f\"Month with the most new recovered cases: {month_name}\")\n"
   ]
  }
 ],
 "metadata": {
  "kernelspec": {
   "display_name": "Python 3 (ipykernel)",
   "language": "python",
   "name": "python3"
  },
  "language_info": {
   "codemirror_mode": {
    "name": "ipython",
    "version": 3
   },
   "file_extension": ".py",
   "mimetype": "text/x-python",
   "name": "python",
   "nbconvert_exporter": "python",
   "pygments_lexer": "ipython3",
   "version": "3.11.6"
  }
 },
 "nbformat": 4,
 "nbformat_minor": 4
}
